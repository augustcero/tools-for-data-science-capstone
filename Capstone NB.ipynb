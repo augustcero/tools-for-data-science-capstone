{
 "cells": [
  {
   "cell_type": "markdown",
   "metadata": {
    "collapsed": true
   },
   "source": [
    "<h1>My Jupyter Notebook on IBM Watson Studio</h1>"
   ]
  },
  {
   "cell_type": "markdown",
   "metadata": {},
   "source": [
    "<b>Alec Andrei D. Carreon</b><br>\n",
    "Data Scientist"
   ]
  },
  {
   "cell_type": "markdown",
   "metadata": {},
   "source": [
    "<i>I am interested in Data Science because I believe in numbers-backed decision-making and policy formulation. I am helplessly curious about so many things</i>"
   ]
  },
  {
   "cell_type": "markdown",
   "metadata": {},
   "source": [
    "<h3>Display the string \"Wazzup, Earthlings!\"</h3>"
   ]
  },
  {
   "cell_type": "code",
   "execution_count": 2,
   "metadata": {},
   "outputs": [
    {
     "name": "stdout",
     "output_type": "stream",
     "text": [
      "Wazzup, Earthlings!\n"
     ]
    }
   ],
   "source": [
    "print(\"Wazzup, Earthlings!\")"
   ]
  },
  {
   "cell_type": "markdown",
   "metadata": {},
   "source": [
    "Lebron \"King\" James\n",
    "<hr>\n",
    "<ul>\n",
    "    <li>4x NBA Champion</li>\n",
    "    <li>4x NBA Finals MVP</li>\n",
    "    <li>4x NBA Most Valuable Player</li>\n",
    "    <li>18x NBA All-Star</li>\n",
    "    <li>3x NBA All-Star MVP</li>\n",
    "    <li>13x All-NBA First Team</li>\n",
    "    <li>3x All-NBA Second Team</li>\n",
    "    <li>2x All-NBA Third Team</li>\n",
    "    <li>5x All-Defensive First Team</li>\n",
    "    <li>1x All-Defensive Second Team</li>\n",
    "    <li>Rookie of the Year</li>\n",
    "    <li>NBA All-Rookie First Team</li>\n",
    "    <li>1x NBA Scoring Champion</li>\n",
    "    <li>1x NBA Assists Leader</li>\n",
    "    <li>NBA 75th Anniversary Team</li>\n",
    "</ul>\n",
    "\n",
    "<table>\n",
    "    <tr>\n",
    "        <td><center><i>The back that carried the Cavaliers franchise</i></center></td>\n",
    "    </tr>\n",
    "    <tr>\n",
    "        <td><img src=\"https://observer.case.edu/wp-content/uploads/2021/02/sports2-900x600.jpg\"></td>\n",
    "    </tr>\n",
    "</table>\n",
    "<hr>\n",
    "Photo Credit <a href=\"https://observer.case.edu/lebron-james-rise/\">The Observer</a>\n",
    "<br>\n",
    "Visit <a href=\"lebronjames.com\">lebronjames.com</a>"
   ]
  }
 ],
 "metadata": {
  "kernelspec": {
   "display_name": "Python 3.9",
   "language": "python",
   "name": "python3"
  },
  "language_info": {
   "codemirror_mode": {
    "name": "ipython",
    "version": 3
   },
   "file_extension": ".py",
   "mimetype": "text/x-python",
   "name": "python",
   "nbconvert_exporter": "python",
   "pygments_lexer": "ipython3",
   "version": "3.9.12"
  }
 },
 "nbformat": 4,
 "nbformat_minor": 1
}
